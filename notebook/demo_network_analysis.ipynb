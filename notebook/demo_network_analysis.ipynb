{
 "cells": [
  {
   "cell_type": "markdown",
   "metadata": {},
   "source": [
    "# Spatial network analysis code breakfast"
   ]
  },
  {
   "cell_type": "markdown",
   "metadata": {},
   "source": [
    "## <font color=\"#3333cc\"><a name=\"top_row\"></a> Contents </font>\n",
    " - section 1. [a very short introduction](#section_1)\n",
    " - section 2. [used packages](#section_2)\n",
    " - section 3. [data import](#section_3)\n",
    " - section 4. [feature selection](#section_4)\n",
    " - section 5. [building the graph](#section_5)\n",
    " - section 6. [Ranking the shortest path](#section_6)\n",
    " - section 7. [Export the distance matrix](#section_7)\n",
    " - section 8. [Perform network analysis with NetworkX](#section_8) \n",
    " "
   ]
  },
  {
   "cell_type": "markdown",
   "metadata": {},
   "source": [
    "### <font color=\"#3333cc\"><a name=\"section_1\"></a> 1. a very short introduction</font>"
   ]
  },
  {
   "cell_type": "markdown",
   "metadata": {},
   "source": [
    "### Short intro\n",
    "[presentation network analysis](spatial_graph_analytics.pdf)\n",
    "\n",
    "#### useful links\n",
    " - [Theoretical foundations of graphs](http://networksciencebook.com/chapter/2#bridges)\n",
    " - [Spatial analysis online book, spatial network analysis](https://www.spatialanalysisonline.com/HTML/index.html?overview_-_network_analysis.htm)"
   ]
  },
  {
   "cell_type": "markdown",
   "metadata": {},
   "source": [
    "### <font color=\"#3333cc\"><a name=\"section_2\"></a>2. used packages</font>"
   ]
  },
  {
   "cell_type": "code",
   "execution_count": null,
   "metadata": {},
   "outputs": [],
   "source": [
    "import geopandas as gpd\n",
    "import pandas as pd\n",
    "import networkx as nx\n",
    "from owslib.wfs import WebFeatureService\n",
    "import owslib\n",
    "import datetime\n",
    "from progressbar import ProgressBar"
   ]
  },
  {
   "cell_type": "code",
   "execution_count": null,
   "metadata": {},
   "outputs": [],
   "source": [
    "import bfs_poi_afstand as bfs"
   ]
  },
  {
   "cell_type": "markdown",
   "metadata": {},
   "source": [
    "### package versions"
   ]
  },
  {
   "cell_type": "code",
   "execution_count": null,
   "metadata": {},
   "outputs": [],
   "source": [
    "print('pandas:', pd.__version__)\n",
    "print('Geopandas:', gpd.__version__)\n",
    "print('networkx:', nx.__version__)\n",
    "print('owslib:', owslib.__version__)"
   ]
  },
  {
   "cell_type": "markdown",
   "metadata": {},
   "source": [
    "### <font color=\"#3333cc\"><a name=\"section_3\"></a>3. data import</font>\n",
    "\n",
    "Go back to [table of Contents](#top_row)"
   ]
  },
  {
   "cell_type": "markdown",
   "metadata": {},
   "source": [
    "## Download the data\n",
    "(manually)  \n",
    "The url below redirects to the metadata page..  \n",
    "\n",
    "__[Loop- en fietsnetwerk Amsterdam  (196 MB)](https://data.amsterdam.nl/datasets/7hGzsRXqWSGqHw/loop-en-fietsnetwerk-amsterdam/)__\n"
   ]
  },
  {
   "cell_type": "markdown",
   "metadata": {},
   "source": [
    "## setup your basedir for the files and the url for your services"
   ]
  },
  {
   "cell_type": "code",
   "execution_count": null,
   "metadata": {},
   "outputs": [],
   "source": [
    "# basedir for your files, ending with as slash\n",
    "data_dir='/home/data/tmp/'\n",
    "# url for the neigbourhoods, districts and cityp parts\n",
    "wfs_gebieden='https://api.data.amsterdam.nl/v1/wfs/gebieden/'"
   ]
  },
  {
   "cell_type": "markdown",
   "metadata": {},
   "source": [
    "## Import all the required data\n",
    " - city parts of Amsterdam\n",
    " - edges\n",
    " - nodes and poi's\n",
    " - addresses"
   ]
  },
  {
   "cell_type": "markdown",
   "metadata": {},
   "source": [
    "### import City parts of Amsterdam\n",
    "We use this dataset to limit the size of the spatial network\n",
    "#### documentation:\n",
    "https://api.data.amsterdam.nl/v1/docs/wfs-datasets/gebieden.html"
   ]
  },
  {
   "cell_type": "code",
   "execution_count": null,
   "metadata": {},
   "outputs": [],
   "source": [
    "WfsUrl = wfs_gebieden\n",
    "wfs = WebFeatureService(url=WfsUrl, version='2.0.0')\n",
    "print('The title of the dataset:',wfs.identification.title)\n",
    "print('available map layers: \\n',list(wfs.contents))"
   ]
  },
  {
   "cell_type": "code",
   "execution_count": null,
   "metadata": {},
   "outputs": [],
   "source": [
    "# request city parts\n",
    "layer='stadsdelen'\n",
    "response = wfs.getfeature(typename=layer, outputFormat='geojson')"
   ]
  },
  {
   "cell_type": "code",
   "execution_count": null,
   "metadata": {},
   "outputs": [],
   "source": [
    "# write the response to disk..\n",
    "f_stadsdelen=data_dir + 'stadsdelen.geojson'\n",
    "with open(f_stadsdelen, 'wb') as file:\n",
    "    file.write(response.read())"
   ]
  },
  {
   "cell_type": "code",
   "execution_count": null,
   "metadata": {},
   "outputs": [],
   "source": [
    "# Read the file into a geopadas dataframe\n",
    "gdf_stadsdelen = gpd.read_file(f_stadsdelen)"
   ]
  },
  {
   "cell_type": "markdown",
   "metadata": {},
   "source": [
    "#### Remark:\n",
    "This specfic wfs service delivers historial data. Therefore we have to filter the last known instances."
   ]
  },
  {
   "cell_type": "code",
   "execution_count": null,
   "metadata": {},
   "outputs": [],
   "source": [
    "print('number of city parts:',gdf_stadsdelen.shape[0])"
   ]
  },
  {
   "cell_type": "markdown",
   "metadata": {},
   "source": [
    "#### Filter on the most recent object instance"
   ]
  },
  {
   "cell_type": "code",
   "execution_count": null,
   "metadata": {},
   "outputs": [],
   "source": [
    "gdf_stadsdelen=gdf_stadsdelen[gdf_stadsdelen['eind_geldigheid'].isna() == True]\n",
    "print('number of city parts:',gdf_stadsdelen.shape[0])"
   ]
  },
  {
   "cell_type": "code",
   "execution_count": null,
   "metadata": {},
   "outputs": [],
   "source": [
    "print('coordinate system:',gdf_stadsdelen.crs)\n",
    "gdf_stadsdelen.plot(column='naam')"
   ]
  },
  {
   "cell_type": "code",
   "execution_count": null,
   "metadata": {},
   "outputs": [],
   "source": [
    "gdf_stadsdeel_zuid=gdf_stadsdelen[gdf_stadsdelen['naam'] == 'Zuid']\n",
    "gdf_stadsdeel_zuid.plot()"
   ]
  },
  {
   "cell_type": "markdown",
   "metadata": {},
   "source": [
    "##  edges"
   ]
  },
  {
   "cell_type": "code",
   "execution_count": null,
   "metadata": {},
   "outputs": [],
   "source": [
    "gdf_network_edges=gpd.read_file(data_dir + 'adam_netwerk_voetfiets_edges.gpkg',\n",
    "                                mask=gdf_stadsdelen[gdf_stadsdelen.naam=='Zuid'])\n",
    "# for the sake of consistency, only take the elements which are within the city part\n",
    "# Make a spatial join\n",
    "gdf_network_edges_zuid = gpd.sjoin(gdf_network_edges, gdf_stadsdeel_zuid, how=\"inner\", op=\"within\")"
   ]
  },
  {
   "cell_type": "code",
   "execution_count": null,
   "metadata": {},
   "outputs": [],
   "source": [
    "gdf_network_edges.head(3)"
   ]
  },
  {
   "cell_type": "markdown",
   "metadata": {},
   "source": [
    "## nodes and pois"
   ]
  },
  {
   "cell_type": "code",
   "execution_count": null,
   "metadata": {},
   "outputs": [],
   "source": [
    "# adam_netwerk_voetfiets_nodes_poi.gpkg\n",
    "gdf_nodes_poi=gpd.read_file(data_dir + 'adam_netwerk_voetfiets_nodes_poi.gpkg',\n",
    "                           mask=gdf_stadsdeel_zuid)\n",
    "# for the sake of consistency, only take the elements which are within the city part\n",
    "# Make a spatial join\n",
    "gdf_nodes_poi_zuid = gpd.sjoin(gdf_nodes_poi, gdf_stadsdeel_zuid, how=\"inner\", op=\"within\")"
   ]
  },
  {
   "cell_type": "code",
   "execution_count": null,
   "metadata": {},
   "outputs": [],
   "source": [
    "print('number of rows:',gdf_nodes_poi.shape[0])\n",
    "print('number of pois:',gdf_nodes_poi[gdf_nodes_poi['poi_type'] != 'node'].shape[0])\n",
    "\n",
    "gdf_nodes_poi.head(3)"
   ]
  },
  {
   "cell_type": "markdown",
   "metadata": {},
   "source": [
    "## A little exploration..\n",
    "### Which poi types do we have?"
   ]
  },
  {
   "cell_type": "code",
   "execution_count": null,
   "metadata": {},
   "outputs": [],
   "source": [
    "gdf_nodes_poi_zuid.groupby(by='poi_type').agg('count')"
   ]
  },
  {
   "cell_type": "markdown",
   "metadata": {},
   "source": [
    "## addresses\n",
    "The addresses are related (one to many, or one tot one).  \n",
    "We can use these to apply a filter on the poi's which are related to addresses."
   ]
  },
  {
   "cell_type": "code",
   "execution_count": null,
   "metadata": {},
   "outputs": [],
   "source": [
    "# adam_netwerk_voetfiets_poi_adressen.gpkg\n",
    "gdf_poi_adressen=gpd.read_file(data_dir + 'adam_netwerk_voetfiets_poi_adressen.gpkg',\n",
    "                              mask=gdf_stadsdelen[gdf_stadsdelen.naam=='Zuid'])\n",
    "# for the sake of consistency, only take the elements which are within the city part\n",
    "# Make a spatial join\n",
    "gdf_poi_adressen_zuid = gpd.sjoin(gdf_poi_adressen, gdf_stadsdeel_zuid, how=\"inner\", op=\"within\")"
   ]
  },
  {
   "cell_type": "code",
   "execution_count": null,
   "metadata": {
    "scrolled": true
   },
   "outputs": [],
   "source": [
    "print('number of rows:',gdf_poi_adressen.shape[0])\n",
    "gdf_poi_adressen_zuid.head(2)"
   ]
  },
  {
   "cell_type": "markdown",
   "metadata": {},
   "source": [
    "### Which object functions do we have?"
   ]
  },
  {
   "cell_type": "code",
   "execution_count": null,
   "metadata": {
    "scrolled": true
   },
   "outputs": [],
   "source": [
    "gdf_poi_adressen_zuid.groupby(by='obj_gebruik').agg('count')"
   ]
  },
  {
   "cell_type": "code",
   "execution_count": null,
   "metadata": {
    "scrolled": false
   },
   "outputs": [],
   "source": [
    "gdf_poi_adressen_zuid.plot()"
   ]
  },
  {
   "cell_type": "markdown",
   "metadata": {},
   "source": [
    "## <font color=\"#3333cc\"><a name=\"section_4\"></a>4. feature selection</font>\n",
    "Go back to [table of Contents](#top_row)"
   ]
  },
  {
   "cell_type": "markdown",
   "metadata": {},
   "source": [
    "## Prepare the data for graph analytics\n",
    "\n",
    "In this section we need to prepare the following DataFrames:\n",
    " - gdf_edges\n",
    " - gdf_nodes\n",
    " - gdf_poi\n",
    " \n",
    " The poi's will be filtered using addresses"
   ]
  },
  {
   "cell_type": "markdown",
   "metadata": {},
   "source": [
    "### edges\n",
    "Get the edges, no further filtering is necessary.\n",
    "We need the following columns:\n",
    " - fid_pk: unique edge_id\n",
    " - id_startpoint: id of the startpoint of the edge (relates to node_id)\n",
    " - id_endpoint: id of the endpoint of the edge (relates to node_id)\n",
    " - the weight (cost) of the edge. In this case only the length of the edge is used"
   ]
  },
  {
   "cell_type": "code",
   "execution_count": null,
   "metadata": {},
   "outputs": [],
   "source": [
    "# From the edges we need id_startpoint, id_endpoint,fid_pk, and weight\n",
    "gdf_edges=gdf_network_edges_zuid[['fid_pk','id_startpoint', 'id_endpoint','weight','geometry']]\n",
    "gdf_edges.head(3)"
   ]
  },
  {
   "cell_type": "markdown",
   "metadata": {},
   "source": [
    "### nodes\n",
    "For the nodes we need the following:\n",
    " - first column: node_id , unique id of the node\n",
    " - second column: geometry, the point geometry in Well Known Text notation (WKT)"
   ]
  },
  {
   "cell_type": "code",
   "execution_count": null,
   "metadata": {},
   "outputs": [],
   "source": [
    "gdf_nodes=gdf_nodes_poi_zuid[['node_id','geometry']]\n",
    "gdf_nodes.head(3)"
   ]
  },
  {
   "cell_type": "markdown",
   "metadata": {},
   "source": [
    "### POI \n",
    "#### Poins Of Interest\n",
    "With the BFS algorithm we search the shortest path from a single point to all the other pois in the Graph\n",
    "In this notebook example the **'from poi'** are all the healthcare service points, and the **'to_poi'** are all the dwellings.\n",
    "\n",
    "The poi_type of the dwellings / addresses must be mapped to a single type\" **'address_poi'**\n",
    " - lps (house boats)\n",
    " - sps (non-buildings on land, caravan parcs)\n",
    " - vot_cluster (clustered units within buildings)"
   ]
  },
  {
   "cell_type": "markdown",
   "metadata": {},
   "source": [
    "![datamodel](model_relations.png)"
   ]
  },
  {
   "cell_type": "markdown",
   "metadata": {},
   "source": [
    "## reclassify poi_type\n",
    "Within the key registration addresses and buildings different object types can have an address.  \n",
    "Therefore reclassification is required."
   ]
  },
  {
   "cell_type": "markdown",
   "metadata": {},
   "source": [
    "### Define the function to reclassify"
   ]
  },
  {
   "cell_type": "code",
   "execution_count": null,
   "metadata": {},
   "outputs": [],
   "source": [
    "def reclass_poi_type(row):\n",
    "    if row['poi_type'] == 'lps':\n",
    "        return 'address'\n",
    "    elif row['poi_type']=='sps':\n",
    "        return 'address'\n",
    "    \n",
    "    elif row['poi_type'] == 'vot_cluster':\n",
    "        return 'address'    \n",
    "    else:\n",
    "        return row['poi_type']"
   ]
  },
  {
   "cell_type": "markdown",
   "metadata": {},
   "source": [
    "#### Perform the reclassification for gdf_nodes_poi_zuid"
   ]
  },
  {
   "cell_type": "code",
   "execution_count": null,
   "metadata": {},
   "outputs": [],
   "source": [
    "gdf_nodes_poi_zuid['poi_type_gen'] = gdf_nodes_poi_zuid.apply(reclass_poi_type, axis=1)"
   ]
  },
  {
   "cell_type": "code",
   "execution_count": null,
   "metadata": {},
   "outputs": [],
   "source": [
    "gdf_nodes_poi_zuid.groupby(by='poi_type_gen').agg('count')"
   ]
  },
  {
   "cell_type": "markdown",
   "metadata": {},
   "source": [
    "#### Perform the wrangling for gdf_poi_adressen\n",
    "In this section we select the addresses, which we later use to filter poi's"
   ]
  },
  {
   "cell_type": "markdown",
   "metadata": {},
   "source": [
    "#### Select the _from_ and _to_ addresses\n",
    "_from_: gezondheidszorgfunctie,  \n",
    "_to_: woonfunctie"
   ]
  },
  {
   "cell_type": "code",
   "execution_count": null,
   "metadata": {
    "scrolled": true
   },
   "outputs": [],
   "source": [
    "# make selection of from where we want to calc the distance\n",
    "# filter all the addresses which have a health service and dwellings\n",
    "gebruik_filter= ['gezondheidszorgfunctie','woonfunctie']\n",
    "gdf_address_selection=gdf_poi_adressen_zuid[gdf_poi_adressen_zuid.obj_gebruik.isin(gebruik_filter)]\n",
    "# \n",
    "gdf_address_selection.groupby(by='obj_gebruik').agg('count')"
   ]
  },
  {
   "cell_type": "code",
   "execution_count": null,
   "metadata": {},
   "outputs": [],
   "source": [
    "## get the unique values\n",
    "gdf_address_selection=gdf_address_selection[['poi_id','obj_gebruik']].drop_duplicates()"
   ]
  },
  {
   "cell_type": "code",
   "execution_count": null,
   "metadata": {},
   "outputs": [],
   "source": [
    "gdf_address_selection.groupby(by='obj_gebruik').agg('count')"
   ]
  },
  {
   "cell_type": "code",
   "execution_count": null,
   "metadata": {},
   "outputs": [],
   "source": [
    "gdf_address_selection.head(3)"
   ]
  },
  {
   "cell_type": "markdown",
   "metadata": {},
   "source": [
    "### select the pois which are input for the graph\n",
    " - from: gezondheidszorgfunctie\n",
    " - to: woonfunctie"
   ]
  },
  {
   "cell_type": "markdown",
   "metadata": {},
   "source": [
    "### Filter the poi based on the address selection"
   ]
  },
  {
   "cell_type": "code",
   "execution_count": null,
   "metadata": {},
   "outputs": [],
   "source": [
    "gdf_poi= gdf_nodes_poi_zuid.merge(gdf_address_selection,on='poi_id')\n",
    "gdf_poi.head(5)\n",
    "gdf_poi=gdf_poi[['node_id','poi_id','obj_gebruik']]\n",
    "#rename\n",
    "gdf_poi.columns=('node_id','poi_id','poi_type')\n",
    "gdf_poi.head(3)"
   ]
  },
  {
   "cell_type": "code",
   "execution_count": null,
   "metadata": {},
   "outputs": [],
   "source": [
    "gdf_poi.groupby(by='poi_type').agg('count')"
   ]
  },
  {
   "cell_type": "markdown",
   "metadata": {},
   "source": [
    "## <font color=\"#3333cc\"><a name=\"section_5\"></a>5. building the graph</font>\n",
    "\n",
    "Go back to [table of Contents](#top_row)  \n",
    "  \n",
    "This particular bfs helper functions requires a specific input and structure.  \n",
    "The construction of the graph an de BFS-algo is written in native python by Niels Prins."
   ]
  },
  {
   "cell_type": "code",
   "execution_count": null,
   "metadata": {},
   "outputs": [],
   "source": [
    "# generate input_data\n",
    "#DataFrame.to_records(index=True, column_dtypes=None, index_dtypes=None)[source]\n",
    "df_nodes = pd.DataFrame(gdf_nodes)\n",
    "rec_nodes = df_nodes.to_records(index=False)\n",
    "g_nodes = bfs.get_data('node',rec_nodes)"
   ]
  },
  {
   "cell_type": "code",
   "execution_count": null,
   "metadata": {},
   "outputs": [],
   "source": [
    "df_edges = pd.DataFrame(gdf_edges[['fid_pk', 'id_startpoint', 'id_endpoint', 'weight' ]])\n",
    "rec_edges = df_edges.values.tolist()\n",
    "g_edges = bfs.get_data('edge',rec_edges)"
   ]
  },
  {
   "cell_type": "code",
   "execution_count": null,
   "metadata": {},
   "outputs": [],
   "source": [
    "df_poi = pd.DataFrame(gdf_poi)\n",
    "rec_poi = df_poi.to_records(index=False)\n",
    "g_poi = bfs.get_data('poi',rec_poi)"
   ]
  },
  {
   "cell_type": "markdown",
   "metadata": {},
   "source": [
    "### Build the Graph"
   ]
  },
  {
   "cell_type": "code",
   "execution_count": null,
   "metadata": {},
   "outputs": [],
   "source": [
    "# create_graph(poi_type_from, poi_type_to,node_data,edge_data,poi_data)\n",
    "graph = bfs.create_graph('gezondheidszorgfunctie','woonfunctie',g_nodes,g_edges,g_poi)"
   ]
  },
  {
   "cell_type": "markdown",
   "metadata": {},
   "source": [
    "### Get the Matrix"
   ]
  },
  {
   "cell_type": "code",
   "execution_count": null,
   "metadata": {},
   "outputs": [],
   "source": [
    "# get_distance_matrix(graph, threshold=cutoff)\n",
    "d_matrix = bfs.get_distance_matrix(graph, threshold=1000.0)"
   ]
  },
  {
   "cell_type": "code",
   "execution_count": null,
   "metadata": {},
   "outputs": [],
   "source": [
    "df_matrix = pd.DataFrame.from_records(d_matrix, columns=['van_node', 'node_id', 'distance'])\n",
    "print ('number of rows in frame:', len(df_matrix))"
   ]
  },
  {
   "cell_type": "code",
   "execution_count": null,
   "metadata": {},
   "outputs": [],
   "source": [
    "df_matrix"
   ]
  },
  {
   "cell_type": "markdown",
   "metadata": {},
   "source": [
    "## Join distance matrix with pois\n",
    "The Graph operations were performes on nodes.  \n",
    "To have a meaningful distance matrix we need no (re) join the points of interest.."
   ]
  },
  {
   "cell_type": "markdown",
   "metadata": {},
   "source": [
    "### join the poi's 'dwellings'"
   ]
  },
  {
   "cell_type": "code",
   "execution_count": null,
   "metadata": {},
   "outputs": [],
   "source": [
    "df_distancematrix_poi_stag=pd.merge(df_poi,df_matrix, on='node_id', how='left')"
   ]
  },
  {
   "cell_type": "code",
   "execution_count": null,
   "metadata": {},
   "outputs": [],
   "source": [
    "df_distancematrix_poi_stag=pd.merge(df_poi,df_matrix, on='node_id', how='left')\n",
    "df_distancematrix_poi_stag.head(3)"
   ]
  },
  {
   "cell_type": "markdown",
   "metadata": {},
   "source": [
    "### join the pois 'gezondheidszorgfunctie'"
   ]
  },
  {
   "cell_type": "code",
   "execution_count": null,
   "metadata": {},
   "outputs": [],
   "source": [
    "# select the required poi's\n",
    "df_poi_gezondheidszorg=df_poi[df_poi['poi_type'] == 'gezondheidszorgfunctie']\n",
    "df_poi_gezondheidszorg.columns=('van_node','van_poi_id','van_poi_type')"
   ]
  },
  {
   "cell_type": "code",
   "execution_count": null,
   "metadata": {},
   "outputs": [],
   "source": [
    "# merge...\n",
    "df_distancematrix_poi=pd.merge(df_distancematrix_poi_stag,df_poi_gezondheidszorg, on='van_node', how='left')"
   ]
  },
  {
   "cell_type": "code",
   "execution_count": null,
   "metadata": {},
   "outputs": [],
   "source": [
    "# round the calculated distance\n",
    "df_distancematrix_poi.distance = df_distancematrix_poi.distance.astype(float)\n",
    "df_distancematrix_poi['distance'] = df_distancematrix_poi['distance'].round(decimals=0)\n",
    "df_distancematrix_poi"
   ]
  },
  {
   "cell_type": "markdown",
   "metadata": {},
   "source": [
    "## <font color=\"#3333cc\"><a name=\"section_6\"></a>6. Ranking the shortest path</font>\n",
    "\n",
    "Go back to [table of Contents](#top_row)  "
   ]
  },
  {
   "cell_type": "markdown",
   "metadata": {},
   "source": [
    "## Ranking\n",
    "The distance matrix calculated the shortest path between the pairs reachable poi's.  \n",
    "For the purpose of analysis and filtering the distances are ranked for each poi."
   ]
  },
  {
   "cell_type": "code",
   "execution_count": null,
   "metadata": {},
   "outputs": [],
   "source": [
    "df_distancematrix_poi['distance_rank'] = df_distancematrix_poi.groupby('poi_id')['distance'].rank(method='min')"
   ]
  },
  {
   "cell_type": "code",
   "execution_count": null,
   "metadata": {},
   "outputs": [],
   "source": [
    "#sorting\n",
    "#df_distancematrix_poi_sort=df_distancematrix_poi.sort_values(by=['poi','distance'] ,kind='mergesort')\n",
    "#df_distancematrix_poi_sort\n",
    "df_distancematrix_poi.sort_values(by=['poi_id', 'distance'], ascending=True)"
   ]
  },
  {
   "cell_type": "code",
   "execution_count": null,
   "metadata": {},
   "outputs": [],
   "source": [
    "df_distancematrix_poi_rank1=df_distancematrix_poi[df_distancematrix_poi['distance_rank'] ==1.0]\n",
    "df_distancematrix_poi_rank1"
   ]
  },
  {
   "cell_type": "markdown",
   "metadata": {},
   "source": [
    "## <font color=\"#3333cc\"><a name=\"section_7\"></a>7. Export the distance matrix</font>\n",
    "\n",
    "Go back to [table of Contents](#top_row)  "
   ]
  },
  {
   "cell_type": "markdown",
   "metadata": {},
   "source": [
    "### For convenience of use, add geometry of the poi's"
   ]
  },
  {
   "cell_type": "code",
   "execution_count": null,
   "metadata": {},
   "outputs": [],
   "source": [
    "gdf_poi_geom = gdf_nodes_poi_zuid[['poi_id','geometry']]\n",
    "df_distancematrix_poi_geom = pd.merge(df_distancematrix_poi_rank1,gdf_poi_geom, on='poi_id', how='inner')"
   ]
  },
  {
   "cell_type": "code",
   "execution_count": null,
   "metadata": {},
   "outputs": [],
   "source": [
    "# Transform the panda to the Geo\n",
    "gdf_distancematrix_poi_geom =  gpd.GeoDataFrame(df_distancematrix_poi_geom, crs=\"EPSG:28992\", geometry=df_distancematrix_poi_geom['geometry'])\n",
    "gdf_distancematrix_poi_geom.plot()"
   ]
  },
  {
   "cell_type": "code",
   "execution_count": null,
   "metadata": {},
   "outputs": [],
   "source": [
    "# Export as csv\n",
    "df_distancematrix_poi_geom.to_csv(data_dir + 'distance_poi_zuid_gzorg.csv',sep=';',index=False)"
   ]
  },
  {
   "cell_type": "code",
   "execution_count": null,
   "metadata": {},
   "outputs": [],
   "source": [
    "# Export as Geopackage\n",
    "gdf_distancematrix_poi_geom.to_file(data_dir + 'distance_poi_zuid_gzorg.gpkg', layer='poi_zuid_gzorg', driver=\"GPKG\")"
   ]
  },
  {
   "cell_type": "code",
   "execution_count": null,
   "metadata": {},
   "outputs": [],
   "source": []
  },
  {
   "cell_type": "code",
   "execution_count": null,
   "metadata": {},
   "outputs": [],
   "source": []
  },
  {
   "cell_type": "markdown",
   "metadata": {},
   "source": [
    "## <font color=\"#3333cc\"><a name=\"section_8\"></a>8. Perform network analysis with NetworkX</font>\n",
    "\n",
    "Go back to [table of Contents](#top_row)  \n",
    "\n",
    "**<font color='ff0000'>The source below doesn't work yet and serves an illustrative purpose</font>**"
   ]
  },
  {
   "cell_type": "code",
   "execution_count": null,
   "metadata": {},
   "outputs": [],
   "source": [
    "# Create empty graph\n",
    "G = nx.Graph()\n",
    "type(G)"
   ]
  },
  {
   "cell_type": "code",
   "execution_count": null,
   "metadata": {},
   "outputs": [],
   "source": [
    "# Add edges and edge attributes\n",
    "# start sub job\n",
    "for i, elrow in gdf_edges.iterrows():\n",
    "    #g.add_edge(elrow[0], elrow[1], attr_dict=elrow[2:].to_dict())\n",
    "    G.add_edge(elrow[0], elrow[1], weight=elrow[3], attr_dict=elrow[2:].to_dict())\n",
    "# end job\n",
    "endDT = datetime.datetime.now()\n",
    "print ('end job:',str(endDT))\n",
    "#"
   ]
  },
  {
   "cell_type": "code",
   "execution_count": null,
   "metadata": {},
   "outputs": [],
   "source": [
    "print('# of edges: {}'.format(G.number_of_edges()))"
   ]
  },
  {
   "cell_type": "code",
   "execution_count": null,
   "metadata": {},
   "outputs": [],
   "source": [
    "def create_distance_matrix(p_start_node,p_dist):\n",
    "    l_df_dmatrix = pd.DataFrame.from_dict(p_dist, orient='index',columns=['distance'])\n",
    "    l_df_dmatrix['from_node'] = p_start_node\n",
    "    l_df_dmatrix['to_node'] = l_df_dmatrix.index\n",
    "    l_df_dmatrix.reset_index(level=0, inplace=True)\n",
    "    return l_df_dmatrix"
   ]
  },
  {
   "cell_type": "code",
   "execution_count": null,
   "metadata": {},
   "outputs": [],
   "source": [
    "# start job\n",
    "# define de list of source nodes\n",
    "l_source_nodes=df_poi['node_id']\n",
    "\n",
    "# define progress bar\n",
    "d_pbar = ProgressBar()\n",
    "#initialize matrices with distances and routes (path)\n",
    "df_distancematrix=pd.DataFrame()\n",
    "df_pathmatrix=pd.DataFrame()\n",
    "# calculate for each school the distance to all the poi's\n",
    "for l_source_node in d_pbar(l_source_nodes):\n",
    "    # single source dijksta\n",
    "    #r_dist = nx.single_source_dijkstra_path_length(G,l_source_node,weight='weight')\n",
    "    r_dist,r_path = nx.single_source_dijkstra(G,l_source_node,weight='weight')\n",
    "    # append to distance matrix\n",
    "    l_submatrix=create_distance_matrix(l_source_node,r_dist)\n",
    "    df_distancematrix=df_distancematrix.append(l_submatrix)\n",
    "\n",
    "    # end of loop\n",
    "#"
   ]
  },
  {
   "cell_type": "code",
   "execution_count": null,
   "metadata": {},
   "outputs": [],
   "source": [
    "df_distancematrix"
   ]
  }
 ],
 "metadata": {
  "kernelspec": {
   "display_name": "Python 3",
   "language": "python",
   "name": "python3"
  },
  "language_info": {
   "codemirror_mode": {
    "name": "ipython",
    "version": 3
   },
   "file_extension": ".py",
   "mimetype": "text/x-python",
   "name": "python",
   "nbconvert_exporter": "python",
   "pygments_lexer": "ipython3",
   "version": "3.6.9"
  }
 },
 "nbformat": 4,
 "nbformat_minor": 4
}
