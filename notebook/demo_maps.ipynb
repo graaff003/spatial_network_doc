{
 "cells": [
  {
   "cell_type": "markdown",
   "metadata": {},
   "source": [
    "# Playground for map visualization"
   ]
  },
  {
   "cell_type": "code",
   "execution_count": 1,
   "metadata": {},
   "outputs": [
    {
     "name": "stderr",
     "output_type": "stream",
     "text": [
      "/home/nico/apps/environments/pynetworkanalysis/lib/python3.6/site-packages/geopandas/_compat.py:88: UserWarning: The Shapely GEOS version (3.8.0-CAPI-1.13.1 ) is incompatible with the GEOS version PyGEOS was compiled with (3.8.1-CAPI-1.13.3). Conversions between both will be slow.\n",
      "  shapely_geos_version, geos_capi_version_string\n"
     ]
    }
   ],
   "source": [
    "#from ipyleaflet import Map, basemaps, LocalTileLayer\n",
    "from ipyleaflet import (Map, GeoData, basemaps, WidgetControl, GeoJSON,\n",
    "      LayersControl, Icon, Marker,basemap_to_tiles, Choropleth,\n",
    "      MarkerCluster, Heatmap,SearchControl, \n",
    "      FullScreenControl,basemaps, LocalTileLayer)\n",
    "import geopandas as gpd\n",
    "from owslib.wfs import WebFeatureService"
   ]
  },
  {
   "cell_type": "code",
   "execution_count": 2,
   "metadata": {},
   "outputs": [],
   "source": [
    "# basedir for your files ending with as slash\n",
    "data_dir='/home/nico/data/tmp/oud/'\n",
    "wfs_gebieden='https://api.data.amsterdam.nl/v1/wfs/gebieden/'"
   ]
  },
  {
   "cell_type": "code",
   "execution_count": 3,
   "metadata": {},
   "outputs": [
    {
     "name": "stdout",
     "output_type": "stream",
     "text": [
      "gebieden\n",
      "['app:bouwblokken', 'app:buurten', 'app:wijken', 'app:ggwgebieden', 'app:ggpgebieden', 'app:stadsdelen']\n"
     ]
    }
   ],
   "source": [
    "WfsUrl = wfs_gebieden\n",
    "wfs = WebFeatureService(url=WfsUrl, version='2.0.0')\n",
    "print(wfs.identification.title)\n",
    "print(list(wfs.contents))"
   ]
  },
  {
   "cell_type": "code",
   "execution_count": 4,
   "metadata": {},
   "outputs": [],
   "source": [
    "layer='stadsdelen'\n",
    "response = wfs.getfeature(typename=layer, outputFormat='geojson')"
   ]
  },
  {
   "cell_type": "code",
   "execution_count": 5,
   "metadata": {},
   "outputs": [],
   "source": [
    "f_stadsdelen='stadsdelen.geojson'\n",
    "with open(f_stadsdelen, 'wb') as file:\n",
    "    file.write(response.read())\n",
    "gdf_stadsdelen = gpd.read_file(f_stadsdelen)"
   ]
  },
  {
   "cell_type": "code",
   "execution_count": 6,
   "metadata": {},
   "outputs": [],
   "source": [
    "#119966.13, 484827.96 (52.3502405, 4.8730170)\n",
    "center=52.348796 , 4.874156\n",
    "centerRD1=484827 , 119966\n",
    "centerRD2=119966 , 484827\n",
    "zoom=12\n",
    "# default value crs = projections.EPSG3857\n",
    "# {'name': 'EPSG3857', 'custom': False}\n",
    "coordsysrd={'name': 'EPSG28992', 'custom': False}\n",
    "coordsyswm={'name': 'EPSG3857', 'custom': False}\n"
   ]
  },
  {
   "cell_type": "code",
   "execution_count": 7,
   "metadata": {},
   "outputs": [
    {
     "data": {
      "application/vnd.jupyter.widget-view+json": {
       "model_id": "0400b869ee5e4d0eb3fd08541bdeba77",
       "version_major": 2,
       "version_minor": 0
      },
      "text/plain": [
       "Map(center=[52.348796, 4.874156], controls=(ZoomControl(options=['position', 'zoom_in_text', 'zoom_in_title', …"
      ]
     },
     "metadata": {},
     "output_type": "display_data"
    }
   ],
   "source": [
    "m = Map(center=center, zoom=zoom, crs=coordsyswm)\n",
    "#https://t1.data.amsterdam.nl/topo_wm_zw/15/15137/17281.png\n",
    "#m.add_layer(LocalTileLayer(path='tiles/{z}/{x}/{y}.png'))\n",
    "#m.add_layer(LocalTileLayer(path='https://t1.data.amsterdam.nl/topo_wm_zw/{z}/{x}/{y}.png'))\n",
    "m.add_layer(LocalTileLayer(path='https://t1.data.amsterdam.nl/topo_wm_zw/{z}/{x}/{y}.png'))\n",
    "m"
   ]
  },
  {
   "cell_type": "code",
   "execution_count": 8,
   "metadata": {},
   "outputs": [
    {
     "name": "stdout",
     "output_type": "stream",
     "text": [
      "{'name': 'EPSG3857', 'custom': False}\n"
     ]
    }
   ],
   "source": [
    "print(m.crs)"
   ]
  },
  {
   "cell_type": "code",
   "execution_count": 9,
   "metadata": {},
   "outputs": [
    {
     "data": {
      "text/plain": [
       "<AxesSubplot:>"
      ]
     },
     "execution_count": 9,
     "metadata": {},
     "output_type": "execute_result"
    },
    {
     "data": {
      "image/png": "[encoded data removed]",
      "text/plain": [
       "<Figure size 432x288 with 1 Axes>"
      ]
     },
     "metadata": {
      "needs_background": "light"
     },
     "output_type": "display_data"
    }
   ],
   "source": [
    "# add city parts..\n",
    "# transform to webmercator\n",
    "gdf_stadsdelenwm=gdf_stadsdelen.to_crs(\"EPSG:4326\")\n",
    "gdf_stadsdelenwm.plot()"
   ]
  },
  {
   "cell_type": "code",
   "execution_count": 10,
   "metadata": {},
   "outputs": [],
   "source": [
    "# add them to the map\n",
    "m2 = Map(basemap=basemaps.CartoDB.DarkMatter, center=center, zoom=zoom, crs=coordsyswm)\n",
    "# Create a geodata\n",
    "cityparts = GeoData(geo_dataframe = gdf_stadsdelenwm, \n",
    " style={'color': 'grey', 'fillColor': '#99d6ff', 'opacity':0.7, 'weight':1.9, 'dashArray':'2', 'fillOpacity':0.2},\n",
    " hover_style={'fillColor': '#004d80' , 'fillOpacity': 0.8},\n",
    " name = 'stadselen')"
   ]
  },
  {
   "cell_type": "code",
   "execution_count": 11,
   "metadata": {},
   "outputs": [
    {
     "data": {
      "application/vnd.jupyter.widget-view+json": {
       "model_id": "0400b869ee5e4d0eb3fd08541bdeba77",
       "version_major": 2,
       "version_minor": 0
      },
      "text/plain": [
       "Map(bottom=344904.0, center=[52.348796, 4.874156], controls=(ZoomControl(options=['position', 'zoom_in_text', …"
      ]
     },
     "metadata": {},
     "output_type": "display_data"
    }
   ],
   "source": [
    "m.add_layer(cityparts)\n",
    "m.add_control(LayersControl())\n",
    "m"
   ]
  },
  {
   "cell_type": "code",
   "execution_count": 12,
   "metadata": {},
   "outputs": [
    {
     "data": {
      "application/vnd.jupyter.widget-view+json": {
       "model_id": "d18d705239cc412a82b0682c5465c3a2",
       "version_major": 2,
       "version_minor": 0
      },
      "text/plain": [
       "Map(center=[52.348796, 4.874156], controls=(ZoomControl(options=['position', 'zoom_in_text', 'zoom_in_title', …"
      ]
     },
     "metadata": {},
     "output_type": "display_data"
    }
   ],
   "source": [
    "Map(basemap=basemaps.CartoDB.DarkMatter, center=center, zoom=zoom)"
   ]
  },
  {
   "cell_type": "code",
   "execution_count": 13,
   "metadata": {},
   "outputs": [
    {
     "data": {
      "application/vnd.jupyter.widget-view+json": {
       "model_id": "78fc0694a0cc4cd097b43d4f61226e08",
       "version_major": 2,
       "version_minor": 0
      },
      "text/plain": [
       "Map(center=[52.348796, 4.874156], controls=(ZoomControl(options=['position', 'zoom_in_text', 'zoom_in_title', …"
      ]
     },
     "metadata": {},
     "output_type": "display_data"
    }
   ],
   "source": [
    "Map(basemap=basemaps.Esri.WorldStreetMap, center=center, zoom=zoom)"
   ]
  },
  {
   "cell_type": "code",
   "execution_count": 14,
   "metadata": {},
   "outputs": [
    {
     "data": {
      "application/vnd.jupyter.widget-view+json": {
       "model_id": "5fd977e223b2411987e2d5904a5318d2",
       "version_major": 2,
       "version_minor": 0
      },
      "text/plain": [
       "Map(center=[52.348796, 4.874156], controls=(ZoomControl(options=['position', 'zoom_in_text', 'zoom_in_title', …"
      ]
     },
     "metadata": {},
     "output_type": "display_data"
    }
   ],
   "source": [
    "Map(basemap=basemaps.Esri.WorldTopoMap, center=center, zoom=zoom)"
   ]
  },
  {
   "cell_type": "code",
   "execution_count": 15,
   "metadata": {},
   "outputs": [
    {
     "data": {
      "application/vnd.jupyter.widget-view+json": {
       "model_id": "c7187c46676446d9b2cefc8787d91fdc",
       "version_major": 2,
       "version_minor": 0
      },
      "text/plain": [
       "Map(center=[52.348796, 4.874156], controls=(ZoomControl(options=['position', 'zoom_in_text', 'zoom_in_title', …"
      ]
     },
     "metadata": {},
     "output_type": "display_data"
    }
   ],
   "source": [
    "Map(basemap=basemaps.CartoDB.Positron, center=center, zoom=zoom)"
   ]
  },
  {
   "cell_type": "code",
   "execution_count": 16,
   "metadata": {},
   "outputs": [
    {
     "data": {
      "application/vnd.jupyter.widget-view+json": {
       "model_id": "dce311021e8d4e5b89bcb664bc9a3135",
       "version_major": 2,
       "version_minor": 0
      },
      "text/plain": [
       "Map(center=[52.348796, 4.874156], controls=(ZoomControl(options=['position', 'zoom_in_text', 'zoom_in_title', …"
      ]
     },
     "metadata": {},
     "output_type": "display_data"
    }
   ],
   "source": [
    "Map(basemap=basemaps.Esri.WorldImagery, center=center, zoom=zoom)"
   ]
  },
  {
   "cell_type": "code",
   "execution_count": null,
   "metadata": {},
   "outputs": [],
   "source": []
  }
 ],
 "metadata": {
  "kernelspec": {
   "display_name": "Python 3",
   "language": "python",
   "name": "python3"
  },
  "language_info": {
   "codemirror_mode": {
    "name": "ipython",
    "version": 3
   },
   "file_extension": ".py",
   "mimetype": "text/x-python",
   "name": "python",
   "nbconvert_exporter": "python",
   "pygments_lexer": "ipython3",
   "version": "3.6.9"
  }
 },
 "nbformat": 4,
 "nbformat_minor": 4
}
